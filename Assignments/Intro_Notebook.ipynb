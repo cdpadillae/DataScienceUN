{
 "cells": [
  {
   "cell_type": "markdown",
   "id": "307f8697-7141-49bc-ab05-f53d50c7d4de",
   "metadata": {},
   "source": [
    "# Regression\n",
    "![](https://upload.wikimedia.org/wikipedia/commons/1/18/ISO_C%2B%2B_Logo.svg) "
   ]
  },
  {
   "cell_type": "markdown",
   "id": "162add03-c1e4-45d2-b017-59d1c9e62a72",
   "metadata": {},
   "source": [
    "Para abrir en Colab, click [Aquì](https://colab.research.google.com/github/cdpadillae/DataScienceUN/blob/main/Assignments/Intro_Notebook.ipynb)\n"
   ]
  },
  {
   "cell_type": "markdown",
   "id": "bb054153-7866-4870-9deb-a6da26a2180f",
   "metadata": {},
   "source": [
    "| | |\n",
    "|-----------|-----------|\n",
    "|<img src=\"./Pictures/144140728_3816914875032468_1547282368877294723_n.jpg\" alt=\"Descripción de la imagen\" width=\"350\">| I am a final-semester physics student at Universidad Nacional de Colombia, currently working on my thesis. My research involves the synthesis and structural analysis of a perovskite. Additionally, I have taken courses in C++, High-Performance Computing, and simulation, which have piqued my interest in computational methods. I'm taking this course mainly, to learn about supervised and unsupervised methods and data science in general. Here is the link to my GitHub account: [Cindy-GitHub](https://github.com/cdpadillae)|"
   ]
  },
  {
   "cell_type": "markdown",
   "id": "1d8542a5-df28-43e4-9c8f-616b05eb9ae5",
   "metadata": {},
   "source": [
    "## Regression \n",
    "Regression is a statistical technique used for modeling and analyzing the relationship between a dependent variable (also called the response variable) and one or more independent variables (also known as predictor variables). There are different types of regression based on the nature of the data and the relationships being modeled, some of them are:\n",
    "\n",
    "- Simple and Multiple Linear Regression\n",
    "- Logistic Regression\n",
    "- Polynomial Regression\n",
    "- Nonlinear Regression"
   ]
  },
  {
   "cell_type": "markdown",
   "id": "64b8d631-a69c-4771-9d15-ab8c3369be18",
   "metadata": {},
   "source": [
    "### Linear regression in optics\n",
    "When we want to characterize a lens, which means finding its focal length, we usually conduct an experiment in which an object is placed at various distances from the lens. Then, the distance at which the image appears is measured. A model that relates both distances is provided by the equation:"
   ]
  },
  {
   "cell_type": "markdown",
   "id": "8aada28a-345a-40be-b3e8-c6e7db043bd9",
   "metadata": {},
   "source": [
    "$\\frac{1}{s_i}=\\frac{1}{s_o}+\\frac{1}{f}$"
   ]
  },
  {
   "cell_type": "markdown",
   "id": "65569078-3ab2-4b1a-b65d-56264b9fe3bf",
   "metadata": {},
   "source": [
    "So, we plot $\\frac{1}{s_i}$ against $\\frac{1}{s_o}$ and, using a technique for linear regression, i.e., least squares, we find the mathematical function that best fits the dataset. Then, we compare it with the equation and find the focal length."
   ]
  },
  {
   "cell_type": "code",
   "execution_count": 4,
   "id": "8f888689-63d5-446a-b0af-92f1ef1e1091",
   "metadata": {},
   "outputs": [
    {
     "name": "stdout",
     "output_type": "stream",
     "text": [
      "Collecting pandas\n",
      "  Downloading pandas-2.0.3-cp310-cp310-manylinux_2_17_x86_64.manylinux2014_x86_64.whl (12.3 MB)\n",
      "\u001b[2K     \u001b[38;2;114;156;31m━━━━━━━━━━━━━━━━━━━━━━━━━━━━━━━━━━━━━━━━\u001b[0m \u001b[32m12.3/12.3 MB\u001b[0m \u001b[31m3.9 MB/s\u001b[0m eta \u001b[36m0:00:00\u001b[0mm eta \u001b[36m0:00:01\u001b[0m0:01\u001b[0m:01\u001b[0m\n",
      "\u001b[?25hRequirement already satisfied: python-dateutil>=2.8.2 in /home/dahiana/my-jupyer-env/lib/python3.10/site-packages (from pandas) (2.8.2)\n",
      "Collecting tzdata>=2022.1\n",
      "  Downloading tzdata-2023.3-py2.py3-none-any.whl (341 kB)\n",
      "\u001b[2K     \u001b[38;2;114;156;31m━━━━━━━━━━━━━━━━━━━━━━━━━━━━━━━━━━━━━━━\u001b[0m \u001b[32m341.8/341.8 KB\u001b[0m \u001b[31m6.3 MB/s\u001b[0m eta \u001b[36m0:00:00\u001b[0m MB/s\u001b[0m eta \u001b[36m0:00:01\u001b[0m\n",
      "\u001b[?25hCollecting numpy>=1.21.0\n",
      "  Downloading numpy-1.25.2-cp310-cp310-manylinux_2_17_x86_64.manylinux2014_x86_64.whl (18.2 MB)\n",
      "\u001b[2K     \u001b[38;2;114;156;31m━━━━━━━━━━━━━━━━━━━━━━━━━━━━━━━━━━━━━━━━\u001b[0m \u001b[32m18.2/18.2 MB\u001b[0m \u001b[31m3.8 MB/s\u001b[0m eta \u001b[36m0:00:00\u001b[0mm eta \u001b[36m0:00:01\u001b[0m[36m0:00:01\u001b[0m\n",
      "\u001b[?25hCollecting pytz>=2020.1\n",
      "  Downloading pytz-2023.3-py2.py3-none-any.whl (502 kB)\n",
      "\u001b[2K     \u001b[38;2;114;156;31m━━━━━━━━━━━━━━━━━━━━━━━━━━━━━━━━━━━━━━━\u001b[0m \u001b[32m502.3/502.3 KB\u001b[0m \u001b[31m5.7 MB/s\u001b[0m eta \u001b[36m0:00:00\u001b[0m[31m7.5 MB/s\u001b[0m eta \u001b[36m0:00:01\u001b[0m\n",
      "\u001b[?25hRequirement already satisfied: six>=1.5 in /home/dahiana/my-jupyer-env/lib/python3.10/site-packages (from python-dateutil>=2.8.2->pandas) (1.16.0)\n",
      "Installing collected packages: pytz, tzdata, numpy, pandas\n",
      "Successfully installed numpy-1.25.2 pandas-2.0.3 pytz-2023.3 tzdata-2023.3\n",
      "Note: you may need to restart the kernel to use updated packages.\n"
     ]
    }
   ],
   "source": [
    "pip install pandas"
   ]
  },
  {
   "cell_type": "code",
   "execution_count": 9,
   "id": "55e8988a-d83e-4dcb-8b5b-4c3558131184",
   "metadata": {
    "scrolled": true
   },
   "outputs": [
    {
     "data": {
      "text/html": [
       "<div>\n",
       "<style scoped>\n",
       "    .dataframe tbody tr th:only-of-type {\n",
       "        vertical-align: middle;\n",
       "    }\n",
       "\n",
       "    .dataframe tbody tr th {\n",
       "        vertical-align: top;\n",
       "    }\n",
       "\n",
       "    .dataframe thead th {\n",
       "        text-align: right;\n",
       "    }\n",
       "</style>\n",
       "<table border=\"1\" class=\"dataframe\">\n",
       "  <thead>\n",
       "    <tr style=\"text-align: right;\">\n",
       "      <th></th>\n",
       "      <th>Distancia_objeto</th>\n",
       "      <th>Distancia_imagen</th>\n",
       "      <th>1/x</th>\n",
       "      <th>1/y</th>\n",
       "    </tr>\n",
       "  </thead>\n",
       "  <tbody>\n",
       "    <tr>\n",
       "      <th>0</th>\n",
       "      <td>-15</td>\n",
       "      <td>72.0</td>\n",
       "      <td>-0.066667</td>\n",
       "      <td>0.013889</td>\n",
       "    </tr>\n",
       "    <tr>\n",
       "      <th>1</th>\n",
       "      <td>-20</td>\n",
       "      <td>38.0</td>\n",
       "      <td>-0.050000</td>\n",
       "      <td>0.026316</td>\n",
       "    </tr>\n",
       "    <tr>\n",
       "      <th>2</th>\n",
       "      <td>-25</td>\n",
       "      <td>28.0</td>\n",
       "      <td>-0.040000</td>\n",
       "      <td>0.035714</td>\n",
       "    </tr>\n",
       "    <tr>\n",
       "      <th>3</th>\n",
       "      <td>-30</td>\n",
       "      <td>24.4</td>\n",
       "      <td>-0.033333</td>\n",
       "      <td>0.040984</td>\n",
       "    </tr>\n",
       "    <tr>\n",
       "      <th>4</th>\n",
       "      <td>-35</td>\n",
       "      <td>21.4</td>\n",
       "      <td>-0.028571</td>\n",
       "      <td>0.046729</td>\n",
       "    </tr>\n",
       "    <tr>\n",
       "      <th>5</th>\n",
       "      <td>-40</td>\n",
       "      <td>21.5</td>\n",
       "      <td>-0.025000</td>\n",
       "      <td>0.046512</td>\n",
       "    </tr>\n",
       "    <tr>\n",
       "      <th>6</th>\n",
       "      <td>-45</td>\n",
       "      <td>18.3</td>\n",
       "      <td>-0.022222</td>\n",
       "      <td>0.054645</td>\n",
       "    </tr>\n",
       "  </tbody>\n",
       "</table>\n",
       "</div>"
      ],
      "text/plain": [
       "   Distancia_objeto  Distancia_imagen       1/x       1/y\n",
       "0               -15              72.0 -0.066667  0.013889\n",
       "1               -20              38.0 -0.050000  0.026316\n",
       "2               -25              28.0 -0.040000  0.035714\n",
       "3               -30              24.4 -0.033333  0.040984\n",
       "4               -35              21.4 -0.028571  0.046729\n",
       "5               -40              21.5 -0.025000  0.046512\n",
       "6               -45              18.3 -0.022222  0.054645"
      ]
     },
     "execution_count": 9,
     "metadata": {},
     "output_type": "execute_result"
    }
   ],
   "source": [
    "import pandas as pd\n",
    "data = {'Distancia_objeto(cm)': [-15,-20,-25, -30, -35, -40, -45 ],\n",
    "        'Distancia_imagen(cm)': [72, 38, 28, 24.4, 21.4,21.5,18.3]}\n",
    "df = pd.DataFrame(data)\n",
    "df['1/x'] = 1 / df['Distancia_objeto']\n",
    "df['1/y'] = 1 / df['Distancia_imagen']\n",
    "df"
   ]
  },
  {
   "cell_type": "code",
   "execution_count": 15,
   "id": "0b60ec77-b5fd-4f56-be0b-4250f53324ff",
   "metadata": {},
   "outputs": [
    {
     "name": "stdout",
     "output_type": "stream",
     "text": [
      "Pendiente: 0.871269229775678\n",
      "Focal Length: 14.102502384264877 cm\n"
     ]
    }
   ],
   "source": [
    "import numpy as np\n",
    "\n",
    "# Extraer los datos 1/x y 1/y\n",
    "x_inverse = df['1/x']\n",
    "y_inverse = df['1/y']\n",
    "\n",
    "# Mìnimos cuadrados\n",
    "coefficients = np.polyfit(x_inverse, y_inverse, 1)\n",
    "slope_inverse = coefficients[0]\n",
    "intercept_inverse = 1/coefficients[1]\n",
    "\n",
    "print(f\"Pendiente: {slope_inverse}\")\n",
    "print(f\"Focal Length: {intercept_inverse} cm\")"
   ]
  },
  {
   "cell_type": "code",
   "execution_count": null,
   "id": "2f5a877a-6034-4c57-8ea6-4dc58fc88e11",
   "metadata": {},
   "outputs": [],
   "source": []
  }
 ],
 "metadata": {
  "kernelspec": {
   "display_name": "Python 3 (ipykernel)",
   "language": "python",
   "name": "python3"
  },
  "language_info": {
   "codemirror_mode": {
    "name": "ipython",
    "version": 3
   },
   "file_extension": ".py",
   "mimetype": "text/x-python",
   "name": "python",
   "nbconvert_exporter": "python",
   "pygments_lexer": "ipython3",
   "version": "3.10.12"
  }
 },
 "nbformat": 4,
 "nbformat_minor": 5
}
