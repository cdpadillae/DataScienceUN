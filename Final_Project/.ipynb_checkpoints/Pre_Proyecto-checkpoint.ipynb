{
 "cells": [
  {
   "cell_type": "markdown",
   "id": "59c82692-00c9-4596-b565-a85b23f15bc2",
   "metadata": {},
   "source": [
    "# Análisis de agrupación en datos de salud: Un enfoque en natalidad y mortalidad"
   ]
  },
  {
   "cell_type": "markdown",
   "id": "34813194-24c5-4892-9d20-f9f12a6c434b",
   "metadata": {},
   "source": [
    "**Asesor principal** Prof. Campo Elìas\n",
    "\n",
    "**Autora** Cindy Padilla\n"
   ]
  },
  {
   "cell_type": "markdown",
   "id": "8535aa7c-6342-4bfb-b57a-a9f462de2245",
   "metadata": {},
   "source": [
    "## **Propuesta de Proyecto**\n",
    "### Introducción\n",
    "Este proyecto tiene como objetivo explorar y analizar datos de natalidad y mortalidad utilizando diversas técnicas de aprendizaje no supervisado y análisis de series de tiempo para responder: \n",
    "- ¿Es posible identificar grupos de regiones que compartan patrones similares de natalidad y mortalidad?\n",
    "- ¿Se pueden identificar grupos demográficos específicos que tengan tasas de natalidad o mortalidad diferentes de la población en general?\n",
    "- ¿Existen patrones temporales en las tasas de natalidad y mortalidad?\n",
    "Para ello se aplicarán métodos que permitan hacer una segmentación de regiones, identificación de grupos vulnerables y análisis de patrones temporales con el fin de obtener información valiosa sobre las tendencias demográficas y de salud en la poblaciòn colombiana.\n",
    "### Descripción del problema\n",
    "En el contexto de la salud pública y la planificación demográfica, comprender las tasas de natalidad y mortalidad en una población es crucial para la toma de decisiones informadas y la implementación de políticas efectivas. Puesto que el DANE pone a disposición los datos anuales de estadísticas vitales, es válido preguntar si las polìticas implementadas han sido coherentes con el comportamiento demográfico. \n",
    "### Fuente de datos:\n",
    "Estadísticas Vitales; microdatos anonimizados de uso público (DANE, 2016-2021). [Estadísticas Vitales 2021](https://microdatos.dane.gov.co/index.php/catalog/775) "
   ]
  },
  {
   "cell_type": "markdown",
   "id": "4f208111-87b7-4893-83aa-de889b5f9afe",
   "metadata": {},
   "source": [
    "### Procesamiento ETL\n",
    "Pendiente por definir\n",
    "### Exploración de los datos: \n",
    "Exploración de los Datos:\n",
    "Para comprender y describir los datos de natalidad y mortalidad en profundidad, se aplicarán:\n",
    "\n",
    "- Muestras de los Datos y Estadísticas Univariadas:\n",
    "Se comenzará por examinar muestras representativas de los datos para la familiarizaciñon con su estructura. Cálculo de estadísticas descriptivas clave; media, la mediana y la desviación estándar. Exploración de la distribución de los datos mediante histogramas y gráficos de densidad para identificar posibles asimetrías o patrones notables.\n",
    "- Gráficos Univariados:\n",
    "Gráficos univariados para visualizar las tasas de natalidad y mortalidad a lo largo del tiempo para observar tendencias y fluctuaciones en las tasas y buscar patrones estacionales o anómalos. \n",
    "- Técnicas Factoriales - Análisis de Componentes Principales (PCA):\n",
    "Para explorar la interacción entre múltiples variables relacionadas con la natalidad y mortalidad, se aplicaría el Análisis de Componentes Principales (PCA) para reducir la dimensionalidad de los datos.\n",
    "- Visualización de Componentes Principales:\n",
    "Una vez aplicado el PCA, visualización de los componentes principales en gráficos de dispersión bidimensionales. Esto nos permitirá identificar agrupaciones o tendencias en función de los componentes principales, lo que nos ayudará a entender mejor la estructura subyacente de los datos.\n",
    "\n",
    "## Técnicas de modelación propuestas\n",
    "Pendientes de discusión; algunas propuestas:\n",
    "\n",
    "- **Segmentación de Regiones:**\n",
    "Aplicar Clustering para agrupar regiones con tasas de natalidad y mortalidad similares.\n",
    "Explorar diferentes números de clusters y evaluar la calidad de las agrupaciones.\n",
    "\n",
    "- **Identificación de Grupos Vulnerables:**\n",
    "Análisis de Componentes Principales (PCA) para reducir la dimensionalidad y capturar características clave de los datos.\n",
    "Aplicar Clustering a los componentes principales para identificar grupos demográficos con características similares.\n",
    "\n",
    "- **Patrones Temporales:**\n",
    "Utilizar Análisis de Series de Tiempo para modelar y predecir patrones temporales en las tasas de natalidad y mortalidad.\n",
    "Descomponer las series de tiempo para separar tendencias, estacionalidad y ruido.\n",
    "\n",
    "###  Conocimientos requeridos para el desarrollo del proyecto:  \n",
    "\n",
    "- Bases de datos relacionales (Tal vez)\n",
    "- Python: intermedio \n",
    "- Modelos no supervisados\n",
    "\n",
    "### Resultados esperados:\n",
    "\n",
    "- Identificación de agrupaciones geográficas y demográficas significativas en los datos de natalidad y mortalidad.\n",
    "- Descubrimiento de grupos vulnerables con características compartidas y necesidades específicas.\n",
    "- Modelado de patrones temporales que revelen tendencias a lo largo del tiempo y posibles estacionalidades en las tasas de natalidad y mortalidad.\n",
    "\n",
    "### Tiempo Estimado:\n",
    "\n",
    "- Agosto 21-26: Transformación y limpieza de datos.\n",
    "- Agosto 28-Sept 02: Exploración de datos.\n",
    "- Sept 04-Sept 09: Segmentación de regiones\n",
    "- Sept 11-Sept 16: Identifiaciòn Grupos Vulnerables\n",
    "- Sept 18-Sept 23: Patrones temporales\n",
    "- Sept 25-Sept 29: Revisión"
   ]
  },
  {
   "cell_type": "code",
   "execution_count": null,
   "id": "7f00557a-8dbb-45c9-899c-200178eeab99",
   "metadata": {},
   "outputs": [],
   "source": []
  }
 ],
 "metadata": {
  "kernelspec": {
   "display_name": "Python 3 (ipykernel)",
   "language": "python",
   "name": "python3"
  },
  "language_info": {
   "codemirror_mode": {
    "name": "ipython",
    "version": 3
   },
   "file_extension": ".py",
   "mimetype": "text/x-python",
   "name": "python",
   "nbconvert_exporter": "python",
   "pygments_lexer": "ipython3",
   "version": "3.10.12"
  }
 },
 "nbformat": 4,
 "nbformat_minor": 5
}
